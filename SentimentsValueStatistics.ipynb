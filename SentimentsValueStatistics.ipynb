{
 "cells": [
  {
   "cell_type": "code",
   "execution_count": 1,
   "id": "8518c166",
   "metadata": {},
   "outputs": [
    {
     "name": "stdout",
     "output_type": "stream",
     "text": [
      "{1: 60922, 2: 7677, 3: 4110, 4: 3132, 5: 2218, 6: 1568, 7: 1526, 8: 1300, 9: 1165, 10: 1807}\n"
     ]
    }
   ],
   "source": [
    "import os\n",
    "import csv\n",
    "import xlwt\n",
    "import jieba\n",
    "import jieba.analyse\n",
    "from snownlp import SnowNLP\n",
    "\n",
    "global totnum\n",
    "totnum = 0\n",
    "\n",
    "def split(st):\n",
    "    ids,names = \"\",\"\"\n",
    "    for i in st:\n",
    "        if i.isdigit():\n",
    "            ids = ids+i\n",
    "        elif i=='.':\n",
    "            break\n",
    "        else:\n",
    "            names = names+i\n",
    "\n",
    "def eachfile(filepath):\n",
    "    files=os.listdir(filepath)\n",
    "    sentiments_seg={}\n",
    "    for i in range(10):\n",
    "        sentiments_seg[i+1]=0\n",
    "    for fi in files:\n",
    "        global totnum\n",
    "        totnum+=1\n",
    "        split(fi)\n",
    "        with open('D:/所有医生评论/'+fi,'r',encoding='utf-8') as csvfile:\n",
    "            reader = csv.DictReader(csvfile)\n",
    "            comment_list = [row['患者评论'] for row in reader]\n",
    "       \n",
    "        count=0\n",
    "        sentiments_tot=0\n",
    "        sentiments_ave=0\n",
    "        pos=0\n",
    "        neg=0\n",
    "        neu=0\n",
    "        k=0\n",
    "        \n",
    "        for i in comment_list:\n",
    "            count+=1\n",
    "            s=SnowNLP(i)\n",
    "            k=s.sentiments\n",
    "            sentiments_tot += k\n",
    "            if k>0.9 and k<=1:\n",
    "                sentiments_seg[1]+=1\n",
    "            elif k>0.8 and k<=0.9:\n",
    "                sentiments_seg[2]+=1\n",
    "            elif k>0.7 and k<=0.8:\n",
    "                sentiments_seg[3]+=1\n",
    "            elif k>0.6 and k<=0.7:\n",
    "                sentiments_seg[4]+=1\n",
    "            elif k>0.5 and k<=0.6:\n",
    "                sentiments_seg[5]+=1\n",
    "            elif k>0.4 and k<=0.5:\n",
    "                sentiments_seg[6]+=1\n",
    "            elif k>0.3 and k<=0.4:\n",
    "                sentiments_seg[7]+=1\n",
    "            elif k>0.2 and k<=0.3:\n",
    "                sentiments_seg[8]+=1\n",
    "            elif k>0.1 and k<=0.2:\n",
    "                sentiments_seg[9]+=1\n",
    "            elif k>=0 and k<=0.1:\n",
    "                sentiments_seg[10]+=1\n",
    "                \n",
    "    print(sentiments_seg)\n",
    "def main():\n",
    "    eachfile(\"D:\\\\所有医生评论\")\n",
    "        \n",
    "main()"
   ]
  },
  {
   "cell_type": "code",
   "execution_count": null,
   "id": "b4dac0b5",
   "metadata": {},
   "outputs": [],
   "source": []
  }
 ],
 "metadata": {
  "kernelspec": {
   "display_name": "Python 3 (ipykernel)",
   "language": "python",
   "name": "python3"
  },
  "language_info": {
   "codemirror_mode": {
    "name": "ipython",
    "version": 3
   },
   "file_extension": ".py",
   "mimetype": "text/x-python",
   "name": "python",
   "nbconvert_exporter": "python",
   "pygments_lexer": "ipython3",
   "version": "3.9.12"
  }
 },
 "nbformat": 4,
 "nbformat_minor": 5
}
